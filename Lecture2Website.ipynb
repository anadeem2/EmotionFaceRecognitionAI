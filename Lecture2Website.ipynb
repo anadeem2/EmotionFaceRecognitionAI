{
  "nbformat": 4,
  "nbformat_minor": 0,
  "metadata": {
    "colab": {
      "name": "Lecture2Website.ipynb",
      "provenance": []
    },
    "kernelspec": {
      "name": "python3",
      "display_name": "Python 3"
    },
    "language_info": {
      "name": "python"
    },
    "widgets": {
      "application/vnd.jupyter.widget-state+json": {
        "cb14504ba4454c5c924f252ceb4b16ae": {
          "model_module": "@jupyter-widgets/controls",
          "model_name": "VBoxModel",
          "state": {
            "_view_name": "VBoxView",
            "_dom_classes": [],
            "_model_name": "VBoxModel",
            "_view_module": "@jupyter-widgets/controls",
            "_model_module_version": "1.5.0",
            "_view_count": null,
            "_view_module_version": "1.5.0",
            "box_style": "",
            "layout": "IPY_MODEL_3329f944cb6f42a6a3793b35ba2d974b",
            "_model_module": "@jupyter-widgets/controls",
            "children": [
              "IPY_MODEL_0296611beddd4c07a34f3191dc640064",
              "IPY_MODEL_f9081b0e7f854b27b09356f34ad21565",
              "IPY_MODEL_7eb8437c22bd4e39a38277b03e439d3b",
              "IPY_MODEL_4f2168ff003e48c78a75aebaa246b0a9"
            ]
          }
        },
        "3329f944cb6f42a6a3793b35ba2d974b": {
          "model_module": "@jupyter-widgets/base",
          "model_name": "LayoutModel",
          "state": {
            "_view_name": "LayoutView",
            "grid_template_rows": null,
            "right": null,
            "justify_content": null,
            "_view_module": "@jupyter-widgets/base",
            "overflow": null,
            "_model_module_version": "1.2.0",
            "_view_count": null,
            "flex_flow": null,
            "width": null,
            "min_width": null,
            "border": null,
            "align_items": null,
            "bottom": null,
            "_model_module": "@jupyter-widgets/base",
            "top": null,
            "grid_column": null,
            "overflow_y": null,
            "overflow_x": null,
            "grid_auto_flow": null,
            "grid_area": null,
            "grid_template_columns": null,
            "flex": null,
            "_model_name": "LayoutModel",
            "justify_items": null,
            "grid_row": null,
            "max_height": null,
            "align_content": null,
            "visibility": null,
            "align_self": null,
            "height": null,
            "min_height": null,
            "padding": null,
            "grid_auto_rows": null,
            "grid_gap": null,
            "max_width": null,
            "order": null,
            "_view_module_version": "1.2.0",
            "grid_template_areas": null,
            "object_position": null,
            "object_fit": null,
            "grid_auto_columns": null,
            "margin": null,
            "display": null,
            "left": null
          }
        },
        "0296611beddd4c07a34f3191dc640064": {
          "model_module": "@jupyter-widgets/controls",
          "model_name": "LabelModel",
          "state": {
            "_view_name": "LabelView",
            "style": "IPY_MODEL_abc3f8ea4f32455086947fe26c36f471",
            "_dom_classes": [],
            "description": "",
            "_model_name": "LabelModel",
            "placeholder": "​",
            "_view_module": "@jupyter-widgets/controls",
            "_model_module_version": "1.5.0",
            "value": "Select your bear!",
            "_view_count": null,
            "_view_module_version": "1.5.0",
            "description_tooltip": null,
            "_model_module": "@jupyter-widgets/controls",
            "layout": "IPY_MODEL_05af84fcba884bd5b5e0fe6a164f86e9"
          }
        },
        "f9081b0e7f854b27b09356f34ad21565": {
          "model_module": "@jupyter-widgets/controls",
          "model_name": "FileUploadModel",
          "state": {
            "_view_name": "FileUploadView",
            "_counter": 1,
            "style": "IPY_MODEL_a9ad14eb492744f49b5d9d69368c812d",
            "_dom_classes": [],
            "description": "Upload",
            "multiple": false,
            "_model_name": "FileUploadModel",
            "data": [
              null
            ],
            "button_style": "",
            "_view_module": "@jupyter-widgets/controls",
            "_model_module_version": "1.5.0",
            "accept": "",
            "_view_count": null,
            "disabled": false,
            "_view_module_version": "1.5.0",
            "error": "",
            "description_tooltip": null,
            "metadata": [
              {
                "name": "cro-what-causes-a-stressed-face-and-what-does-it-look-like-understanding-the-signs-of-burnout-1.jpg",
                "type": "image/jpeg",
                "size": 69340,
                "lastModified": 1625024403501
              }
            ],
            "_model_module": "@jupyter-widgets/controls",
            "layout": "IPY_MODEL_7b6a9d92ff7644888a7e3826f82497ad",
            "icon": "upload"
          }
        },
        "7eb8437c22bd4e39a38277b03e439d3b": {
          "model_module": "@jupyter-widgets/output",
          "model_name": "OutputModel",
          "state": {
            "_view_name": "OutputView",
            "msg_id": "",
            "_dom_classes": [],
            "_model_name": "OutputModel",
            "outputs": [
              {
                "output_type": "display_data",
                "metadata": {
                  "tags": []
                },
                "image/png": "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\n",
                "text/plain": "<PIL.Image.Image image mode=RGB size=115x128 at 0x7F53AEDF7FD0>"
              }
            ],
            "_view_module": "@jupyter-widgets/output",
            "_model_module_version": "1.0.0",
            "_view_count": null,
            "_view_module_version": "1.0.0",
            "layout": "IPY_MODEL_d4f086ea7bf54417a35bceed0d98ed23",
            "_model_module": "@jupyter-widgets/output"
          }
        },
        "4f2168ff003e48c78a75aebaa246b0a9": {
          "model_module": "@jupyter-widgets/controls",
          "model_name": "LabelModel",
          "state": {
            "_view_name": "LabelView",
            "style": "IPY_MODEL_1dbdb89d7bb84eecab200c5139f2c3aa",
            "_dom_classes": [],
            "description": "",
            "_model_name": "LabelModel",
            "placeholder": "​",
            "_view_module": "@jupyter-widgets/controls",
            "_model_module_version": "1.5.0",
            "value": "Prediction: stressed; Probability: 1.0000 All Probabilities: tensor([2.1886e-08, 8.6062e-11, 1.0000e+00]) Catagories: ['angry', 'happy', 'stressed']",
            "_view_count": null,
            "_view_module_version": "1.5.0",
            "description_tooltip": null,
            "_model_module": "@jupyter-widgets/controls",
            "layout": "IPY_MODEL_59822d8fd53e4d53a6c77453cff49e2d"
          }
        },
        "abc3f8ea4f32455086947fe26c36f471": {
          "model_module": "@jupyter-widgets/controls",
          "model_name": "DescriptionStyleModel",
          "state": {
            "_view_name": "StyleView",
            "_model_name": "DescriptionStyleModel",
            "description_width": "",
            "_view_module": "@jupyter-widgets/base",
            "_model_module_version": "1.5.0",
            "_view_count": null,
            "_view_module_version": "1.2.0",
            "_model_module": "@jupyter-widgets/controls"
          }
        },
        "05af84fcba884bd5b5e0fe6a164f86e9": {
          "model_module": "@jupyter-widgets/base",
          "model_name": "LayoutModel",
          "state": {
            "_view_name": "LayoutView",
            "grid_template_rows": null,
            "right": null,
            "justify_content": null,
            "_view_module": "@jupyter-widgets/base",
            "overflow": null,
            "_model_module_version": "1.2.0",
            "_view_count": null,
            "flex_flow": null,
            "width": null,
            "min_width": null,
            "border": null,
            "align_items": null,
            "bottom": null,
            "_model_module": "@jupyter-widgets/base",
            "top": null,
            "grid_column": null,
            "overflow_y": null,
            "overflow_x": null,
            "grid_auto_flow": null,
            "grid_area": null,
            "grid_template_columns": null,
            "flex": null,
            "_model_name": "LayoutModel",
            "justify_items": null,
            "grid_row": null,
            "max_height": null,
            "align_content": null,
            "visibility": null,
            "align_self": null,
            "height": null,
            "min_height": null,
            "padding": null,
            "grid_auto_rows": null,
            "grid_gap": null,
            "max_width": null,
            "order": null,
            "_view_module_version": "1.2.0",
            "grid_template_areas": null,
            "object_position": null,
            "object_fit": null,
            "grid_auto_columns": null,
            "margin": null,
            "display": null,
            "left": null
          }
        },
        "a9ad14eb492744f49b5d9d69368c812d": {
          "model_module": "@jupyter-widgets/controls",
          "model_name": "ButtonStyleModel",
          "state": {
            "_view_name": "StyleView",
            "_model_name": "ButtonStyleModel",
            "_view_module": "@jupyter-widgets/base",
            "_model_module_version": "1.5.0",
            "_view_count": null,
            "button_color": null,
            "font_weight": "",
            "_view_module_version": "1.2.0",
            "_model_module": "@jupyter-widgets/controls"
          }
        },
        "7b6a9d92ff7644888a7e3826f82497ad": {
          "model_module": "@jupyter-widgets/base",
          "model_name": "LayoutModel",
          "state": {
            "_view_name": "LayoutView",
            "grid_template_rows": null,
            "right": null,
            "justify_content": null,
            "_view_module": "@jupyter-widgets/base",
            "overflow": null,
            "_model_module_version": "1.2.0",
            "_view_count": null,
            "flex_flow": null,
            "width": null,
            "min_width": null,
            "border": null,
            "align_items": null,
            "bottom": null,
            "_model_module": "@jupyter-widgets/base",
            "top": null,
            "grid_column": null,
            "overflow_y": null,
            "overflow_x": null,
            "grid_auto_flow": null,
            "grid_area": null,
            "grid_template_columns": null,
            "flex": null,
            "_model_name": "LayoutModel",
            "justify_items": null,
            "grid_row": null,
            "max_height": null,
            "align_content": null,
            "visibility": null,
            "align_self": null,
            "height": null,
            "min_height": null,
            "padding": null,
            "grid_auto_rows": null,
            "grid_gap": null,
            "max_width": null,
            "order": null,
            "_view_module_version": "1.2.0",
            "grid_template_areas": null,
            "object_position": null,
            "object_fit": null,
            "grid_auto_columns": null,
            "margin": null,
            "display": null,
            "left": null
          }
        },
        "1dbdb89d7bb84eecab200c5139f2c3aa": {
          "model_module": "@jupyter-widgets/controls",
          "model_name": "DescriptionStyleModel",
          "state": {
            "_view_name": "StyleView",
            "_model_name": "DescriptionStyleModel",
            "description_width": "",
            "_view_module": "@jupyter-widgets/base",
            "_model_module_version": "1.5.0",
            "_view_count": null,
            "_view_module_version": "1.2.0",
            "_model_module": "@jupyter-widgets/controls"
          }
        },
        "59822d8fd53e4d53a6c77453cff49e2d": {
          "model_module": "@jupyter-widgets/base",
          "model_name": "LayoutModel",
          "state": {
            "_view_name": "LayoutView",
            "grid_template_rows": null,
            "right": null,
            "justify_content": null,
            "_view_module": "@jupyter-widgets/base",
            "overflow": null,
            "_model_module_version": "1.2.0",
            "_view_count": null,
            "flex_flow": null,
            "width": null,
            "min_width": null,
            "border": null,
            "align_items": null,
            "bottom": null,
            "_model_module": "@jupyter-widgets/base",
            "top": null,
            "grid_column": null,
            "overflow_y": null,
            "overflow_x": null,
            "grid_auto_flow": null,
            "grid_area": null,
            "grid_template_columns": null,
            "flex": null,
            "_model_name": "LayoutModel",
            "justify_items": null,
            "grid_row": null,
            "max_height": null,
            "align_content": null,
            "visibility": null,
            "align_self": null,
            "height": null,
            "min_height": null,
            "padding": null,
            "grid_auto_rows": null,
            "grid_gap": null,
            "max_width": null,
            "order": null,
            "_view_module_version": "1.2.0",
            "grid_template_areas": null,
            "object_position": null,
            "object_fit": null,
            "grid_auto_columns": null,
            "margin": null,
            "display": null,
            "left": null
          }
        },
        "d4f086ea7bf54417a35bceed0d98ed23": {
          "model_module": "@jupyter-widgets/base",
          "model_name": "LayoutModel",
          "state": {
            "_view_name": "LayoutView",
            "grid_template_rows": null,
            "right": null,
            "justify_content": null,
            "_view_module": "@jupyter-widgets/base",
            "overflow": null,
            "_model_module_version": "1.2.0",
            "_view_count": null,
            "flex_flow": null,
            "width": null,
            "min_width": null,
            "border": null,
            "align_items": null,
            "bottom": null,
            "_model_module": "@jupyter-widgets/base",
            "top": null,
            "grid_column": null,
            "overflow_y": null,
            "overflow_x": null,
            "grid_auto_flow": null,
            "grid_area": null,
            "grid_template_columns": null,
            "flex": null,
            "_model_name": "LayoutModel",
            "justify_items": null,
            "grid_row": null,
            "max_height": null,
            "align_content": null,
            "visibility": null,
            "align_self": null,
            "height": null,
            "min_height": null,
            "padding": null,
            "grid_auto_rows": null,
            "grid_gap": null,
            "max_width": null,
            "order": null,
            "_view_module_version": "1.2.0",
            "grid_template_areas": null,
            "object_position": null,
            "object_fit": null,
            "grid_auto_columns": null,
            "margin": null,
            "display": null,
            "left": null
          }
        }
      }
    }
  },
  "cells": [
    {
      "cell_type": "code",
      "metadata": {
        "id": "4KP-aRpaCbnT",
        "colab": {
          "base_uri": "https://localhost:8080/"
        },
        "outputId": "ee716d64-47f1-4a86-a001-d37f5d62d864"
      },
      "source": [
        "#hide\n",
        "!pip install -Uqq fastbook\n",
        "#hide\n",
        "import fastbook\n",
        "from fastbook import *\n",
        "from fastai.vision.widgets import *"
      ],
      "execution_count": 1,
      "outputs": [
        {
          "output_type": "stream",
          "text": [
            "\u001b[K     |████████████████████████████████| 727kB 4.1MB/s \n",
            "\u001b[K     |████████████████████████████████| 194kB 33.0MB/s \n",
            "\u001b[K     |████████████████████████████████| 1.2MB 31.1MB/s \n",
            "\u001b[K     |████████████████████████████████| 51kB 6.1MB/s \n",
            "\u001b[K     |████████████████████████████████| 61kB 7.2MB/s \n",
            "\u001b[K     |████████████████████████████████| 61kB 7.0MB/s \n",
            "\u001b[?25h"
          ],
          "name": "stdout"
        }
      ]
    },
    {
      "cell_type": "code",
      "metadata": {
        "id": "qngJQa76CvP1"
      },
      "source": [
        "path = Path()\n",
        "learn_inf = load_learner(path/'export.pkl', cpu=True)\n",
        "btn_upload = widgets.FileUpload()\n",
        "out_pl = widgets.Output()\n",
        "lbl_pred = widgets.Label()"
      ],
      "execution_count": 2,
      "outputs": []
    },
    {
      "cell_type": "code",
      "metadata": {
        "id": "NazROFmyDlZX"
      },
      "source": [
        "def on_data_change(change):\n",
        "    lbl_pred.value = ''\n",
        "    img = PILImage.create(btn_upload.data[-1])\n",
        "    out_pl.clear_output()\n",
        "    with out_pl: display(img.to_thumb(128,128))\n",
        "    pred,pred_idx,probs = learn_inf.predict(img)\n",
        "    lbl_pred.value = f'Prediction: {pred}; Probability: {probs[pred_idx]:.04f} All Probabilities: {probs} Catagories: {learn_inf.dls.vocab}'"
      ],
      "execution_count": 3,
      "outputs": []
    },
    {
      "cell_type": "code",
      "metadata": {
        "id": "6BhFIDVeDnro"
      },
      "source": [
        "btn_upload.observe(on_data_change, names=['data'])"
      ],
      "execution_count": 4,
      "outputs": []
    },
    {
      "cell_type": "code",
      "metadata": {
        "colab": {
          "base_uri": "https://localhost:8080/",
          "height": 295,
          "referenced_widgets": [
            "cb14504ba4454c5c924f252ceb4b16ae",
            "3329f944cb6f42a6a3793b35ba2d974b",
            "0296611beddd4c07a34f3191dc640064",
            "f9081b0e7f854b27b09356f34ad21565",
            "7eb8437c22bd4e39a38277b03e439d3b",
            "4f2168ff003e48c78a75aebaa246b0a9",
            "abc3f8ea4f32455086947fe26c36f471",
            "05af84fcba884bd5b5e0fe6a164f86e9",
            "a9ad14eb492744f49b5d9d69368c812d",
            "7b6a9d92ff7644888a7e3826f82497ad",
            "1dbdb89d7bb84eecab200c5139f2c3aa",
            "59822d8fd53e4d53a6c77453cff49e2d",
            "d4f086ea7bf54417a35bceed0d98ed23"
          ]
        },
        "id": "vBXpdvbiDp-5",
        "outputId": "86af8923-dae2-444f-a8e2-5e3b15f5c496"
      },
      "source": [
        "display(VBox([widgets.Label('Select your bear!'), btn_upload, out_pl, lbl_pred]))"
      ],
      "execution_count": 5,
      "outputs": [
        {
          "output_type": "display_data",
          "data": {
            "application/vnd.jupyter.widget-view+json": {
              "model_id": "cb14504ba4454c5c924f252ceb4b16ae",
              "version_minor": 0,
              "version_major": 2
            },
            "text/plain": [
              "VBox(children=(Label(value='Select your bear!'), FileUpload(value={}, description='Upload'), Output(), Label(v…"
            ]
          },
          "metadata": {
            "tags": []
          }
        },
        {
          "output_type": "display_data",
          "data": {
            "text/html": [
              ""
            ],
            "text/plain": [
              "<IPython.core.display.HTML object>"
            ]
          },
          "metadata": {
            "tags": []
          }
        },
        {
          "output_type": "stream",
          "text": [
            "/usr/local/lib/python3.7/dist-packages/torch/nn/functional.py:718: UserWarning: Named tensors and all their associated APIs are an experimental feature and subject to change. Please do not use them for anything important until they are released as stable. (Triggered internally at  /pytorch/c10/core/TensorImpl.h:1156.)\n",
            "  return torch.max_pool2d(input, kernel_size, stride, padding, dilation, ceil_mode)\n"
          ],
          "name": "stderr"
        }
      ]
    }
  ]
}